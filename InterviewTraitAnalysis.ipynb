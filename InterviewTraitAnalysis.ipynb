{
 "cells": [
  {
   "cell_type": "markdown",
   "id": "cadb5106",
   "metadata": {},
   "source": [
    "<h1>Exploratory Data Analysis: Instructor Interview and Ratings Data</h1>\n",
    "\n",
    "<p>In this exploratory data analysis, we'll be working with two datasets:</p>\n",
    "\n",
    "<ul>\n",
    "    <li>Instructor Interview Notes: A dataset consisting of first and second-round interview notes left on all instructors from last year, obtained from our Notion.</li>\n",
    "    <li>Instructor Class Ratings: A dataset consisting of daily feedback ratings from students for all instructors, obtained from our database using a SQL query.</li>\n",
    "</ul>\n",
    "\n",
    "The purpose of this data analysis is to extract traits from the interview notes of top-performing instructors to aid our company in filtering out and finding candidates to prioritize. The underlying assumption of this analysis is that traits that past top-performing instructors had are a predictor of future top-performing instructors.\n",
    "\n",
    "To start, let's import the necessary libraries and define some utility functions."
   ]
  },
  {
   "cell_type": "code",
   "execution_count": 330,
   "id": "7bfce2e3",
   "metadata": {},
   "outputs": [],
   "source": [
    "import pandas\n",
    "import re\n",
    "\n",
    "# Define utility functions\n",
    "def is_valid_email(email):\n",
    "    pattern = r'^[a-zA-Z0-9._%+-]+@[a-zA-Z0-9.-]+\\.[a-zA-Z]{2,}$'\n",
    "    return re.match(pattern, email) is not None\n",
    "\n",
    "def find_valid_email(a, b, c):\n",
    "    if is_valid_email(a):\n",
    "        return a\n",
    "    if is_valid_email(b):\n",
    "        return b\n",
    "    if is_valid_email(c):\n",
    "        return c\n",
    "    return -1"
   ]
  },
  {
   "cell_type": "markdown",
   "id": "d0c4b9b0",
   "metadata": {},
   "source": [
    "The is_valid_email function checks if a given email is valid based on a regular expression pattern. The find_valid_email function returns the first valid email from three given input strings.\n",
    "\n",
    "Now, let's read the datasets into Pandas DataFrames:"
   ]
  },
  {
   "cell_type": "code",
   "execution_count": 331,
   "id": "0e545856",
   "metadata": {},
   "outputs": [],
   "source": [
    "# Read datasets\n",
    "interview_dataset = pandas.read_csv('/Users/blake/Downloads/2022_summer_instructor_interview_notes.csv')\n",
    "ratings_dataset = pandas.read_csv('/Users/blake/Downloads/2022_summer_instructor_class_ratings.csv')"
   ]
  },
  {
   "cell_type": "markdown",
   "id": "d82dc4d3",
   "metadata": {},
   "source": [
    "Next, we'll perform some data preparation on the ratings_dataset. We want to extract valid email addresses and keep only the 'overall_rating' and 'email' columns, since those will be the columns relevant to our analysis."
   ]
  },
  {
   "cell_type": "code",
   "execution_count": 332,
   "id": "07c885c7",
   "metadata": {},
   "outputs": [],
   "source": [
    "# Data preparation\n",
    "ratings_dataset['email'] = ratings_dataset.apply(lambda row: find_valid_email(row['first_name'], row['last_name'], row['email']), axis=1)\n",
    "ratings_dataset = ratings_dataset[['overall_rating', 'email']]"
   ]
  },
  {
   "cell_type": "markdown",
   "id": "3e1ebf24",
   "metadata": {},
   "source": [
    "<h2>Data Processing: Merging and Filtering Instructor Data</h2>"
   ]
  },
  {
   "cell_type": "markdown",
   "id": "a7bcc2f3",
   "metadata": {},
   "source": [
    "In this section, we'll perform additional data processing on the ratings_dataset and interview_dataset before merging them. Then, we'll filter the merged dataset to focus on high-rated instructors.\n",
    "\n",
    "First, let's group the ratings_dataset by email and calculate the mean rating for each instructor:"
   ]
  },
  {
   "cell_type": "code",
   "execution_count": 333,
   "id": "70e6f53f",
   "metadata": {},
   "outputs": [],
   "source": [
    "# Group ratings dataset by email and calculate the mean rating\n",
    "ratings_dataset = ratings_dataset.groupby('email').mean().reset_index()"
   ]
  },
  {
   "cell_type": "markdown",
   "id": "3aa55f1e",
   "metadata": {},
   "source": [
    "Next, we'll rename the 'E-Mail' column to 'email' in the interview_dataset and change the data type for the 'email' column:"
   ]
  },
  {
   "cell_type": "code",
   "execution_count": 334,
   "id": "e78bff71",
   "metadata": {},
   "outputs": [],
   "source": [
    "# Rename columns and change the data type for email in the interview dataset\n",
    "interview_dataset = interview_dataset.rename(columns={'E-Mail': 'email'})\n",
    "interview_dataset['email'] = interview_dataset['email'].astype(str)"
   ]
  },
  {
   "cell_type": "markdown",
   "id": "d9d8bf40",
   "metadata": {},
   "source": [
    "Now, we can merge the two datasets on the 'email' column:"
   ]
  },
  {
   "cell_type": "code",
   "execution_count": 335,
   "id": "3c920ad9",
   "metadata": {},
   "outputs": [],
   "source": [
    "# Merge the two datasets on 'email' column\n",
    "merged_dataset = ratings_dataset.merge(interview_dataset, on='email', how='left')"
   ]
  },
  {
   "cell_type": "markdown",
   "id": "b94a6532",
   "metadata": {},
   "source": [
    "After merging, we'll select the required columns ('overall_rating', '1st Round', and '2nd Round') and drop rows with missing data:"
   ]
  },
  {
   "cell_type": "code",
   "execution_count": 336,
   "id": "383a20c4",
   "metadata": {},
   "outputs": [],
   "source": [
    "# Select required columns and drop rows with missing data\n",
    "merged_dataset = merged_dataset[['overall_rating', '1st Round', '2nd Round']].dropna()"
   ]
  },
  {
   "cell_type": "markdown",
   "id": "cd5bee1e",
   "metadata": {},
   "source": [
    "We'll sort the dataset by 'overall_rating' in descending order to make it easier to identify high-rated instructors:"
   ]
  },
  {
   "cell_type": "code",
   "execution_count": 337,
   "id": "6b5037c3",
   "metadata": {},
   "outputs": [],
   "source": [
    "# Sort the dataset by 'overall_rating' in descending order\n",
    "merged_dataset = merged_dataset.sort_values('overall_rating', ascending = False)"
   ]
  },
  {
   "cell_type": "markdown",
   "id": "e0f557d3",
   "metadata": {},
   "source": [
    "Finally, we'll filter the dataset to focus on instructors with an overall rating greater than 4.5 (out of 5), which is the minimum cutoff for a high-performing instructor:"
   ]
  },
  {
   "cell_type": "code",
   "execution_count": 338,
   "id": "805a277a",
   "metadata": {},
   "outputs": [],
   "source": [
    "# Filter the dataset for instructors with an overall rating greater than 4.5\n",
    "high_rated_instructors = merged_dataset[merged_dataset['overall_rating'] > 4.5].copy()"
   ]
  },
  {
   "cell_type": "markdown",
   "id": "9a5249b5",
   "metadata": {},
   "source": [
    "Let's display the top few high-rated instructors to get a sense of the data:"
   ]
  },
  {
   "cell_type": "code",
   "execution_count": 339,
   "id": "92211a76",
   "metadata": {},
   "outputs": [
    {
     "data": {
      "text/html": [
       "<div>\n",
       "<style scoped>\n",
       "    .dataframe tbody tr th:only-of-type {\n",
       "        vertical-align: middle;\n",
       "    }\n",
       "\n",
       "    .dataframe tbody tr th {\n",
       "        vertical-align: top;\n",
       "    }\n",
       "\n",
       "    .dataframe thead th {\n",
       "        text-align: right;\n",
       "    }\n",
       "</style>\n",
       "<table border=\"1\" class=\"dataframe\">\n",
       "  <thead>\n",
       "    <tr style=\"text-align: right;\">\n",
       "      <th></th>\n",
       "      <th>overall_rating</th>\n",
       "      <th>1st Round</th>\n",
       "      <th>2nd Round</th>\n",
       "    </tr>\n",
       "  </thead>\n",
       "  <tbody>\n",
       "    <tr>\n",
       "      <th>1</th>\n",
       "      <td>4.763485</td>\n",
       "      <td>Video Interview: https://www.youtube.com/watch...</td>\n",
       "      <td>@April 5, 2022 12:45 PM (MDT) \\nScore: 4\\n\\nMo...</td>\n",
       "    </tr>\n",
       "    <tr>\n",
       "      <th>9</th>\n",
       "      <td>4.746032</td>\n",
       "      <td>Interviewer: @Cameron Jackson \\nTime: @Februar...</td>\n",
       "      <td>Interviewer: @Alex Duffy \\nDate/Time: @Februar...</td>\n",
       "    </tr>\n",
       "    <tr>\n",
       "      <th>7</th>\n",
       "      <td>4.737143</td>\n",
       "      <td>Interviewer: @Cameron Jackson \\nTime: @March 2...</td>\n",
       "      <td>@March 23, 2022 12:30pm PST\\nscore: 3.5\\n\\n- h...</td>\n",
       "    </tr>\n",
       "    <tr>\n",
       "      <th>19</th>\n",
       "      <td>4.714859</td>\n",
       "      <td>Video Interview: https://youtu.be/15G9ZRmouY4\\...</td>\n",
       "      <td>@April 8, 2022 12:02 PM (MDT) \\nScore: 4 + I t...</td>\n",
       "    </tr>\n",
       "    <tr>\n",
       "      <th>28</th>\n",
       "      <td>4.678161</td>\n",
       "      <td>@March 17, 2022 11:30 AM (PDT) \\nscore: 3\\n\\n-...</td>\n",
       "      <td>@March 25, 2022 3:15 PM (PDT) \\nScore:3 \\n\\nMo...</td>\n",
       "    </tr>\n",
       "  </tbody>\n",
       "</table>\n",
       "</div>"
      ],
      "text/plain": [
       "    overall_rating                                          1st Round  \\\n",
       "1         4.763485  Video Interview: https://www.youtube.com/watch...   \n",
       "9         4.746032  Interviewer: @Cameron Jackson \\nTime: @Februar...   \n",
       "7         4.737143  Interviewer: @Cameron Jackson \\nTime: @March 2...   \n",
       "19        4.714859  Video Interview: https://youtu.be/15G9ZRmouY4\\...   \n",
       "28        4.678161  @March 17, 2022 11:30 AM (PDT) \\nscore: 3\\n\\n-...   \n",
       "\n",
       "                                            2nd Round  \n",
       "1   @April 5, 2022 12:45 PM (MDT) \\nScore: 4\\n\\nMo...  \n",
       "9   Interviewer: @Alex Duffy \\nDate/Time: @Februar...  \n",
       "7   @March 23, 2022 12:30pm PST\\nscore: 3.5\\n\\n- h...  \n",
       "19  @April 8, 2022 12:02 PM (MDT) \\nScore: 4 + I t...  \n",
       "28  @March 25, 2022 3:15 PM (PDT) \\nScore:3 \\n\\nMo...  "
      ]
     },
     "execution_count": 339,
     "metadata": {},
     "output_type": "execute_result"
    }
   ],
   "source": [
    "high_rated_instructors.head()"
   ]
  },
  {
   "cell_type": "markdown",
   "id": "0f477547",
   "metadata": {},
   "source": [
    "With the processed data in hand, we can proceed to analyze the high-rated instructors and draw insights from their interview notes and ratings."
   ]
  },
  {
   "cell_type": "markdown",
   "id": "e9a86367",
   "metadata": {},
   "source": [
    "<h2>Analyzing Instructor Traits: Identifying Prominent Strengths</h2>"
   ]
  },
  {
   "cell_type": "markdown",
   "id": "ec81b408",
   "metadata": {},
   "source": [
    "In this section, we'll use the OpenAI API to analyze the interview notes of high-rated instructors and identify their most prominent strengths. This will give us insights into the qualities that contribute to their success. To do this, we can write a prompt to have the GPT-3 model output the trait that stands out the most about an applicant, given their interviewer's notes.\n",
    "\n",
    "To start, let's import the required libraries and set up the OpenAI API key:"
   ]
  },
  {
   "cell_type": "code",
   "execution_count": 340,
   "id": "823ff409",
   "metadata": {},
   "outputs": [],
   "source": [
    "import os\n",
    "import openai\n",
    "\n",
    "# Set up OpenAI API key\n",
    "openai.api_key = os.getenv('OPENAI_API_KEY')"
   ]
  },
  {
   "cell_type": "markdown",
   "id": "49b5b96b",
   "metadata": {},
   "source": [
    "Next, we'll define a function called get_prominent_trait that takes interview notes as input and returns the most prominent strength of the candidate:"
   ]
  },
  {
   "cell_type": "code",
   "execution_count": 341,
   "id": "ed62c324",
   "metadata": {},
   "outputs": [],
   "source": [
    "# Define a function to get the prominent trait from the text\n",
    "def get_prominent_trait(text: str) -> str:\n",
    "    response = openai.Completion.create(\n",
    "        model='text-davinci-003',\n",
    "        prompt=\"\"\"\n",
    "        The following text consists of interview notes for a candidate for a summer internship. Based on the notes,\n",
    "        what is the most prominent strength the candidate possesses. Output your answer\n",
    "        as a single adjective with no punctuation at the beginning or end.\n",
    "        \n",
    "        <<NOTES>>\n",
    "        {}\n",
    "        \n",
    "        Most prominent strength the candidate possesses. Must be an adjective with no punctuation at the beginning or end: \n",
    "        \"\"\".format(text),\n",
    "        temperature=0.2,\n",
    "        top_p=0.9\n",
    "    )\n",
    "    \n",
    "    return response['choices'][0]['text'].strip()"
   ]
  },
  {
   "cell_type": "markdown",
   "id": "a02e5b22",
   "metadata": {},
   "source": [
    "Now, let's apply the get_prominent_trait function to the '1st Round' and '2nd Round' interview notes in the high_rated_instructors DataFrame:"
   ]
  },
  {
   "cell_type": "code",
   "execution_count": 342,
   "id": "494b8287",
   "metadata": {},
   "outputs": [],
   "source": [
    "# Add a new column 'trait' by applying the get_prominent_trait function to the interview notes\n",
    "high_rated_instructors.loc[:, 'trait'] = high_rated_instructors.apply(lambda row: get_prominent_trait(row['1st Round'] + '\\n' + row['2nd Round']), axis = 1)"
   ]
  },
  {
   "cell_type": "markdown",
   "id": "ab38d21a",
   "metadata": {},
   "source": [
    "Finally, let's display the first few records of the high_rated_instructors DataFrame with the added 'trait' column for inspection:"
   ]
  },
  {
   "cell_type": "code",
   "execution_count": 343,
   "id": "80e7ebdc",
   "metadata": {},
   "outputs": [
    {
     "data": {
      "text/html": [
       "<div>\n",
       "<style scoped>\n",
       "    .dataframe tbody tr th:only-of-type {\n",
       "        vertical-align: middle;\n",
       "    }\n",
       "\n",
       "    .dataframe tbody tr th {\n",
       "        vertical-align: top;\n",
       "    }\n",
       "\n",
       "    .dataframe thead th {\n",
       "        text-align: right;\n",
       "    }\n",
       "</style>\n",
       "<table border=\"1\" class=\"dataframe\">\n",
       "  <thead>\n",
       "    <tr style=\"text-align: right;\">\n",
       "      <th></th>\n",
       "      <th>overall_rating</th>\n",
       "      <th>1st Round</th>\n",
       "      <th>2nd Round</th>\n",
       "      <th>trait</th>\n",
       "    </tr>\n",
       "  </thead>\n",
       "  <tbody>\n",
       "    <tr>\n",
       "      <th>1</th>\n",
       "      <td>4.763485</td>\n",
       "      <td>Video Interview: https://www.youtube.com/watch...</td>\n",
       "      <td>@April 5, 2022 12:45 PM (MDT) \\nScore: 4\\n\\nMo...</td>\n",
       "      <td>Motivation</td>\n",
       "    </tr>\n",
       "    <tr>\n",
       "      <th>9</th>\n",
       "      <td>4.746032</td>\n",
       "      <td>Interviewer: @Cameron Jackson \\nTime: @Februar...</td>\n",
       "      <td>Interviewer: @Alex Duffy \\nDate/Time: @Februar...</td>\n",
       "      <td>hardworking</td>\n",
       "    </tr>\n",
       "    <tr>\n",
       "      <th>7</th>\n",
       "      <td>4.737143</td>\n",
       "      <td>Interviewer: @Cameron Jackson \\nTime: @March 2...</td>\n",
       "      <td>@March 23, 2022 12:30pm PST\\nscore: 3.5\\n\\n- h...</td>\n",
       "      <td>Nice</td>\n",
       "    </tr>\n",
       "    <tr>\n",
       "      <th>19</th>\n",
       "      <td>4.714859</td>\n",
       "      <td>Video Interview: https://youtu.be/15G9ZRmouY4\\...</td>\n",
       "      <td>@April 8, 2022 12:02 PM (MDT) \\nScore: 4 + I t...</td>\n",
       "      <td>Motivated</td>\n",
       "    </tr>\n",
       "    <tr>\n",
       "      <th>28</th>\n",
       "      <td>4.678161</td>\n",
       "      <td>@March 17, 2022 11:30 AM (PDT) \\nscore: 3\\n\\n-...</td>\n",
       "      <td>@March 25, 2022 3:15 PM (PDT) \\nScore:3 \\n\\nMo...</td>\n",
       "      <td>Motivated</td>\n",
       "    </tr>\n",
       "  </tbody>\n",
       "</table>\n",
       "</div>"
      ],
      "text/plain": [
       "    overall_rating                                          1st Round  \\\n",
       "1         4.763485  Video Interview: https://www.youtube.com/watch...   \n",
       "9         4.746032  Interviewer: @Cameron Jackson \\nTime: @Februar...   \n",
       "7         4.737143  Interviewer: @Cameron Jackson \\nTime: @March 2...   \n",
       "19        4.714859  Video Interview: https://youtu.be/15G9ZRmouY4\\...   \n",
       "28        4.678161  @March 17, 2022 11:30 AM (PDT) \\nscore: 3\\n\\n-...   \n",
       "\n",
       "                                            2nd Round        trait  \n",
       "1   @April 5, 2022 12:45 PM (MDT) \\nScore: 4\\n\\nMo...   Motivation  \n",
       "9   Interviewer: @Alex Duffy \\nDate/Time: @Februar...  hardworking  \n",
       "7   @March 23, 2022 12:30pm PST\\nscore: 3.5\\n\\n- h...         Nice  \n",
       "19  @April 8, 2022 12:02 PM (MDT) \\nScore: 4 + I t...    Motivated  \n",
       "28  @March 25, 2022 3:15 PM (PDT) \\nScore:3 \\n\\nMo...    Motivated  "
      ]
     },
     "execution_count": 343,
     "metadata": {},
     "output_type": "execute_result"
    }
   ],
   "source": [
    "# Display the high-rated instructors\n",
    "high_rated_instructors.head()"
   ]
  },
  {
   "cell_type": "markdown",
   "id": "1b0bedf2",
   "metadata": {},
   "source": [
    "By identifying the most prominent strengths of high-rated instructors, we can gain a better understanding of the qualities that contribute to their success and use this information to inform our selection and training processes."
   ]
  },
  {
   "cell_type": "code",
   "execution_count": 344,
   "id": "a664e51a",
   "metadata": {},
   "outputs": [
    {
     "data": {
      "text/plain": [
       "1        Motivation\n",
       "9       hardworking\n",
       "7              Nice\n",
       "19        Motivated\n",
       "28        Motivated\n",
       "44     Motivational\n",
       "13    Communicative\n",
       "20        Motivated\n",
       "47     Enthusiastic\n",
       "14       Passionate\n",
       "4         Motivated\n",
       "42       Personable\n",
       "17    Communicative\n",
       "38    Communicative\n",
       "32     Professional\n",
       "6     Knowledgeable\n",
       "25        Motivated\n",
       "8         Motivated\n",
       "24        Motivated\n",
       "48         Engaging\n",
       "Name: trait, dtype: object"
      ]
     },
     "execution_count": 344,
     "metadata": {},
     "output_type": "execute_result"
    }
   ],
   "source": [
    "high_rated_instructors['trait']"
   ]
  },
  {
   "cell_type": "markdown",
   "id": "877fb6e3",
   "metadata": {},
   "source": [
    "<h2>Trait Analysis: Grouping and Visualizing Instructor Traits</h2>"
   ]
  },
  {
   "cell_type": "markdown",
   "id": "a49f76c6",
   "metadata": {},
   "source": [
    "In this section, we'll group the identified traits into categories based on their synonyms and visualize the distribution of these categories. This will help us understand the most common qualities among high-rated instructors.\n",
    "\n",
    "First, let's define a function called get_trait_categories that takes a list of traits as input and returns a JSON dictionary with the categories and their frequencies:"
   ]
  },
  {
   "cell_type": "code",
   "execution_count": 345,
   "id": "9d167ee8",
   "metadata": {},
   "outputs": [],
   "source": [
    "# Define a function to get the trait categories from the list of traits\n",
    "def get_trait_categories(traits: str) -> str:\n",
    "    response = openai.Completion.create(\n",
    "        model = 'text-davinci-003',\n",
    "        prompt = \"\"\"\n",
    "        The following words are traits extracted from interview notes for a group of interns. Some words have similar meanings, such as \"engaging\" and \"bright.\"\" Please create 3-4 categories that group these words according to their synonyms, making sure to include every word. Name each category using the most representative word. Present the categories as a well-formatted JSON dictionary, with the category names as keys and the total frequency of words within each category as values.\n",
    "\n",
    "        <<WORDS>>\n",
    "        {}\n",
    "\n",
    "        Create 3-4 categories as a properly-formatted JSON dictionary, ensuring all words are included, with category frequencies as values:\n",
    "\n",
    "        \"\"\".format(traits),\n",
    "        temperature = 0.2,\n",
    "        top_p = 0.1,\n",
    "        max_tokens = 256\n",
    "    )\n",
    "    return response['choices'][0]['text']\n"
   ]
  },
  {
   "cell_type": "markdown",
   "id": "fefe1bce",
   "metadata": {},
   "source": [
    "Next, we'll use the get_trait_categories function to group the traits from the high_rated_instructors DataFrame:"
   ]
  },
  {
   "cell_type": "code",
   "execution_count": 346,
   "id": "80a19fcb",
   "metadata": {},
   "outputs": [],
   "source": [
    "# Get the trait categories from the list of traits\n",
    "traits_list = '\\n'.join(high_rated_instructors['trait'].to_numpy())\n",
    "trait_categories = get_trait_categories(traits_list)"
   ]
  },
  {
   "cell_type": "markdown",
   "id": "3e0752c3",
   "metadata": {},
   "source": [
    "Let's print the trait categories to inspect the results:"
   ]
  },
  {
   "cell_type": "code",
   "execution_count": 347,
   "id": "e2de6cb7",
   "metadata": {},
   "outputs": [
    {
     "name": "stdout",
     "output_type": "stream",
     "text": [
      " {\n",
      "            \"Motivation\": 8,\n",
      "            \"Communication\": 3,\n",
      "            \"Professionalism\": 1,\n",
      "            \"Knowledge\": 1\n",
      "        }\n"
     ]
    }
   ],
   "source": [
    "# Print the trait categories\n",
    "print(trait_categories)"
   ]
  },
  {
   "cell_type": "markdown",
   "id": "6f4e9063",
   "metadata": {},
   "source": [
    "Now, we'll import the required libraries and load the trait categories JSON data:"
   ]
  },
  {
   "cell_type": "code",
   "execution_count": 348,
   "id": "0b53b630",
   "metadata": {},
   "outputs": [],
   "source": [
    "import json\n",
    "import plotly.express as px\n",
    "\n",
    "# Load the trait categories JSON data\n",
    "data = json.loads(trait_categories)"
   ]
  },
  {
   "cell_type": "markdown",
   "id": "fc9dfcbc",
   "metadata": {},
   "source": [
    "Finally, we'll visualize the distribution of trait categories using a pie chart:"
   ]
  },
  {
   "cell_type": "code",
   "execution_count": 349,
   "id": "8a447b51",
   "metadata": {},
   "outputs": [
    {
     "data": {
      "application/vnd.plotly.v1+json": {
       "config": {
        "plotlyServerURL": "https://plot.ly"
       },
       "data": [
        {
         "domain": {
          "x": [
           0,
           1
          ],
          "y": [
           0,
           1
          ]
         },
         "hovertemplate": "label=%{label}<br>value=%{value}<extra></extra>",
         "labels": [
          "Motivation",
          "Communication",
          "Professionalism",
          "Knowledge"
         ],
         "legendgroup": "",
         "name": "",
         "showlegend": true,
         "type": "pie",
         "values": [
          8,
          3,
          1,
          1
         ]
        }
       ],
       "layout": {
        "legend": {
         "tracegroupgap": 0
        },
        "template": {
         "data": {
          "bar": [
           {
            "error_x": {
             "color": "#2a3f5f"
            },
            "error_y": {
             "color": "#2a3f5f"
            },
            "marker": {
             "line": {
              "color": "#E5ECF6",
              "width": 0.5
             },
             "pattern": {
              "fillmode": "overlay",
              "size": 10,
              "solidity": 0.2
             }
            },
            "type": "bar"
           }
          ],
          "barpolar": [
           {
            "marker": {
             "line": {
              "color": "#E5ECF6",
              "width": 0.5
             },
             "pattern": {
              "fillmode": "overlay",
              "size": 10,
              "solidity": 0.2
             }
            },
            "type": "barpolar"
           }
          ],
          "carpet": [
           {
            "aaxis": {
             "endlinecolor": "#2a3f5f",
             "gridcolor": "white",
             "linecolor": "white",
             "minorgridcolor": "white",
             "startlinecolor": "#2a3f5f"
            },
            "baxis": {
             "endlinecolor": "#2a3f5f",
             "gridcolor": "white",
             "linecolor": "white",
             "minorgridcolor": "white",
             "startlinecolor": "#2a3f5f"
            },
            "type": "carpet"
           }
          ],
          "choropleth": [
           {
            "colorbar": {
             "outlinewidth": 0,
             "ticks": ""
            },
            "type": "choropleth"
           }
          ],
          "contour": [
           {
            "colorbar": {
             "outlinewidth": 0,
             "ticks": ""
            },
            "colorscale": [
             [
              0,
              "#0d0887"
             ],
             [
              0.1111111111111111,
              "#46039f"
             ],
             [
              0.2222222222222222,
              "#7201a8"
             ],
             [
              0.3333333333333333,
              "#9c179e"
             ],
             [
              0.4444444444444444,
              "#bd3786"
             ],
             [
              0.5555555555555556,
              "#d8576b"
             ],
             [
              0.6666666666666666,
              "#ed7953"
             ],
             [
              0.7777777777777778,
              "#fb9f3a"
             ],
             [
              0.8888888888888888,
              "#fdca26"
             ],
             [
              1,
              "#f0f921"
             ]
            ],
            "type": "contour"
           }
          ],
          "contourcarpet": [
           {
            "colorbar": {
             "outlinewidth": 0,
             "ticks": ""
            },
            "type": "contourcarpet"
           }
          ],
          "heatmap": [
           {
            "colorbar": {
             "outlinewidth": 0,
             "ticks": ""
            },
            "colorscale": [
             [
              0,
              "#0d0887"
             ],
             [
              0.1111111111111111,
              "#46039f"
             ],
             [
              0.2222222222222222,
              "#7201a8"
             ],
             [
              0.3333333333333333,
              "#9c179e"
             ],
             [
              0.4444444444444444,
              "#bd3786"
             ],
             [
              0.5555555555555556,
              "#d8576b"
             ],
             [
              0.6666666666666666,
              "#ed7953"
             ],
             [
              0.7777777777777778,
              "#fb9f3a"
             ],
             [
              0.8888888888888888,
              "#fdca26"
             ],
             [
              1,
              "#f0f921"
             ]
            ],
            "type": "heatmap"
           }
          ],
          "heatmapgl": [
           {
            "colorbar": {
             "outlinewidth": 0,
             "ticks": ""
            },
            "colorscale": [
             [
              0,
              "#0d0887"
             ],
             [
              0.1111111111111111,
              "#46039f"
             ],
             [
              0.2222222222222222,
              "#7201a8"
             ],
             [
              0.3333333333333333,
              "#9c179e"
             ],
             [
              0.4444444444444444,
              "#bd3786"
             ],
             [
              0.5555555555555556,
              "#d8576b"
             ],
             [
              0.6666666666666666,
              "#ed7953"
             ],
             [
              0.7777777777777778,
              "#fb9f3a"
             ],
             [
              0.8888888888888888,
              "#fdca26"
             ],
             [
              1,
              "#f0f921"
             ]
            ],
            "type": "heatmapgl"
           }
          ],
          "histogram": [
           {
            "marker": {
             "pattern": {
              "fillmode": "overlay",
              "size": 10,
              "solidity": 0.2
             }
            },
            "type": "histogram"
           }
          ],
          "histogram2d": [
           {
            "colorbar": {
             "outlinewidth": 0,
             "ticks": ""
            },
            "colorscale": [
             [
              0,
              "#0d0887"
             ],
             [
              0.1111111111111111,
              "#46039f"
             ],
             [
              0.2222222222222222,
              "#7201a8"
             ],
             [
              0.3333333333333333,
              "#9c179e"
             ],
             [
              0.4444444444444444,
              "#bd3786"
             ],
             [
              0.5555555555555556,
              "#d8576b"
             ],
             [
              0.6666666666666666,
              "#ed7953"
             ],
             [
              0.7777777777777778,
              "#fb9f3a"
             ],
             [
              0.8888888888888888,
              "#fdca26"
             ],
             [
              1,
              "#f0f921"
             ]
            ],
            "type": "histogram2d"
           }
          ],
          "histogram2dcontour": [
           {
            "colorbar": {
             "outlinewidth": 0,
             "ticks": ""
            },
            "colorscale": [
             [
              0,
              "#0d0887"
             ],
             [
              0.1111111111111111,
              "#46039f"
             ],
             [
              0.2222222222222222,
              "#7201a8"
             ],
             [
              0.3333333333333333,
              "#9c179e"
             ],
             [
              0.4444444444444444,
              "#bd3786"
             ],
             [
              0.5555555555555556,
              "#d8576b"
             ],
             [
              0.6666666666666666,
              "#ed7953"
             ],
             [
              0.7777777777777778,
              "#fb9f3a"
             ],
             [
              0.8888888888888888,
              "#fdca26"
             ],
             [
              1,
              "#f0f921"
             ]
            ],
            "type": "histogram2dcontour"
           }
          ],
          "mesh3d": [
           {
            "colorbar": {
             "outlinewidth": 0,
             "ticks": ""
            },
            "type": "mesh3d"
           }
          ],
          "parcoords": [
           {
            "line": {
             "colorbar": {
              "outlinewidth": 0,
              "ticks": ""
             }
            },
            "type": "parcoords"
           }
          ],
          "pie": [
           {
            "automargin": true,
            "type": "pie"
           }
          ],
          "scatter": [
           {
            "marker": {
             "colorbar": {
              "outlinewidth": 0,
              "ticks": ""
             }
            },
            "type": "scatter"
           }
          ],
          "scatter3d": [
           {
            "line": {
             "colorbar": {
              "outlinewidth": 0,
              "ticks": ""
             }
            },
            "marker": {
             "colorbar": {
              "outlinewidth": 0,
              "ticks": ""
             }
            },
            "type": "scatter3d"
           }
          ],
          "scattercarpet": [
           {
            "marker": {
             "colorbar": {
              "outlinewidth": 0,
              "ticks": ""
             }
            },
            "type": "scattercarpet"
           }
          ],
          "scattergeo": [
           {
            "marker": {
             "colorbar": {
              "outlinewidth": 0,
              "ticks": ""
             }
            },
            "type": "scattergeo"
           }
          ],
          "scattergl": [
           {
            "marker": {
             "colorbar": {
              "outlinewidth": 0,
              "ticks": ""
             }
            },
            "type": "scattergl"
           }
          ],
          "scattermapbox": [
           {
            "marker": {
             "colorbar": {
              "outlinewidth": 0,
              "ticks": ""
             }
            },
            "type": "scattermapbox"
           }
          ],
          "scatterpolar": [
           {
            "marker": {
             "colorbar": {
              "outlinewidth": 0,
              "ticks": ""
             }
            },
            "type": "scatterpolar"
           }
          ],
          "scatterpolargl": [
           {
            "marker": {
             "colorbar": {
              "outlinewidth": 0,
              "ticks": ""
             }
            },
            "type": "scatterpolargl"
           }
          ],
          "scatterternary": [
           {
            "marker": {
             "colorbar": {
              "outlinewidth": 0,
              "ticks": ""
             }
            },
            "type": "scatterternary"
           }
          ],
          "surface": [
           {
            "colorbar": {
             "outlinewidth": 0,
             "ticks": ""
            },
            "colorscale": [
             [
              0,
              "#0d0887"
             ],
             [
              0.1111111111111111,
              "#46039f"
             ],
             [
              0.2222222222222222,
              "#7201a8"
             ],
             [
              0.3333333333333333,
              "#9c179e"
             ],
             [
              0.4444444444444444,
              "#bd3786"
             ],
             [
              0.5555555555555556,
              "#d8576b"
             ],
             [
              0.6666666666666666,
              "#ed7953"
             ],
             [
              0.7777777777777778,
              "#fb9f3a"
             ],
             [
              0.8888888888888888,
              "#fdca26"
             ],
             [
              1,
              "#f0f921"
             ]
            ],
            "type": "surface"
           }
          ],
          "table": [
           {
            "cells": {
             "fill": {
              "color": "#EBF0F8"
             },
             "line": {
              "color": "white"
             }
            },
            "header": {
             "fill": {
              "color": "#C8D4E3"
             },
             "line": {
              "color": "white"
             }
            },
            "type": "table"
           }
          ]
         },
         "layout": {
          "annotationdefaults": {
           "arrowcolor": "#2a3f5f",
           "arrowhead": 0,
           "arrowwidth": 1
          },
          "autotypenumbers": "strict",
          "coloraxis": {
           "colorbar": {
            "outlinewidth": 0,
            "ticks": ""
           }
          },
          "colorscale": {
           "diverging": [
            [
             0,
             "#8e0152"
            ],
            [
             0.1,
             "#c51b7d"
            ],
            [
             0.2,
             "#de77ae"
            ],
            [
             0.3,
             "#f1b6da"
            ],
            [
             0.4,
             "#fde0ef"
            ],
            [
             0.5,
             "#f7f7f7"
            ],
            [
             0.6,
             "#e6f5d0"
            ],
            [
             0.7,
             "#b8e186"
            ],
            [
             0.8,
             "#7fbc41"
            ],
            [
             0.9,
             "#4d9221"
            ],
            [
             1,
             "#276419"
            ]
           ],
           "sequential": [
            [
             0,
             "#0d0887"
            ],
            [
             0.1111111111111111,
             "#46039f"
            ],
            [
             0.2222222222222222,
             "#7201a8"
            ],
            [
             0.3333333333333333,
             "#9c179e"
            ],
            [
             0.4444444444444444,
             "#bd3786"
            ],
            [
             0.5555555555555556,
             "#d8576b"
            ],
            [
             0.6666666666666666,
             "#ed7953"
            ],
            [
             0.7777777777777778,
             "#fb9f3a"
            ],
            [
             0.8888888888888888,
             "#fdca26"
            ],
            [
             1,
             "#f0f921"
            ]
           ],
           "sequentialminus": [
            [
             0,
             "#0d0887"
            ],
            [
             0.1111111111111111,
             "#46039f"
            ],
            [
             0.2222222222222222,
             "#7201a8"
            ],
            [
             0.3333333333333333,
             "#9c179e"
            ],
            [
             0.4444444444444444,
             "#bd3786"
            ],
            [
             0.5555555555555556,
             "#d8576b"
            ],
            [
             0.6666666666666666,
             "#ed7953"
            ],
            [
             0.7777777777777778,
             "#fb9f3a"
            ],
            [
             0.8888888888888888,
             "#fdca26"
            ],
            [
             1,
             "#f0f921"
            ]
           ]
          },
          "colorway": [
           "#636efa",
           "#EF553B",
           "#00cc96",
           "#ab63fa",
           "#FFA15A",
           "#19d3f3",
           "#FF6692",
           "#B6E880",
           "#FF97FF",
           "#FECB52"
          ],
          "font": {
           "color": "#2a3f5f"
          },
          "geo": {
           "bgcolor": "white",
           "lakecolor": "white",
           "landcolor": "#E5ECF6",
           "showlakes": true,
           "showland": true,
           "subunitcolor": "white"
          },
          "hoverlabel": {
           "align": "left"
          },
          "hovermode": "closest",
          "mapbox": {
           "style": "light"
          },
          "paper_bgcolor": "white",
          "plot_bgcolor": "#E5ECF6",
          "polar": {
           "angularaxis": {
            "gridcolor": "white",
            "linecolor": "white",
            "ticks": ""
           },
           "bgcolor": "#E5ECF6",
           "radialaxis": {
            "gridcolor": "white",
            "linecolor": "white",
            "ticks": ""
           }
          },
          "scene": {
           "xaxis": {
            "backgroundcolor": "#E5ECF6",
            "gridcolor": "white",
            "gridwidth": 2,
            "linecolor": "white",
            "showbackground": true,
            "ticks": "",
            "zerolinecolor": "white"
           },
           "yaxis": {
            "backgroundcolor": "#E5ECF6",
            "gridcolor": "white",
            "gridwidth": 2,
            "linecolor": "white",
            "showbackground": true,
            "ticks": "",
            "zerolinecolor": "white"
           },
           "zaxis": {
            "backgroundcolor": "#E5ECF6",
            "gridcolor": "white",
            "gridwidth": 2,
            "linecolor": "white",
            "showbackground": true,
            "ticks": "",
            "zerolinecolor": "white"
           }
          },
          "shapedefaults": {
           "line": {
            "color": "#2a3f5f"
           }
          },
          "ternary": {
           "aaxis": {
            "gridcolor": "white",
            "linecolor": "white",
            "ticks": ""
           },
           "baxis": {
            "gridcolor": "white",
            "linecolor": "white",
            "ticks": ""
           },
           "bgcolor": "#E5ECF6",
           "caxis": {
            "gridcolor": "white",
            "linecolor": "white",
            "ticks": ""
           }
          },
          "title": {
           "x": 0.05
          },
          "xaxis": {
           "automargin": true,
           "gridcolor": "white",
           "linecolor": "white",
           "ticks": "",
           "title": {
            "standoff": 15
           },
           "zerolinecolor": "white",
           "zerolinewidth": 2
          },
          "yaxis": {
           "automargin": true,
           "gridcolor": "white",
           "linecolor": "white",
           "ticks": "",
           "title": {
            "standoff": 15
           },
           "zerolinecolor": "white",
           "zerolinewidth": 2
          }
         }
        },
        "title": {
         "text": "Trait Categories Distribution"
        }
       }
      },
      "text/html": [
       "<div>                            <div id=\"59ef3a46-bdcd-43c3-9d51-121865b88151\" class=\"plotly-graph-div\" style=\"height:525px; width:100%;\"></div>            <script type=\"text/javascript\">                require([\"plotly\"], function(Plotly) {                    window.PLOTLYENV=window.PLOTLYENV || {};                                    if (document.getElementById(\"59ef3a46-bdcd-43c3-9d51-121865b88151\")) {                    Plotly.newPlot(                        \"59ef3a46-bdcd-43c3-9d51-121865b88151\",                        [{\"domain\":{\"x\":[0.0,1.0],\"y\":[0.0,1.0]},\"hovertemplate\":\"label=%{label}<br>value=%{value}<extra></extra>\",\"labels\":[\"Motivation\",\"Communication\",\"Professionalism\",\"Knowledge\"],\"legendgroup\":\"\",\"name\":\"\",\"showlegend\":true,\"values\":[8,3,1,1],\"type\":\"pie\"}],                        {\"template\":{\"data\":{\"bar\":[{\"error_x\":{\"color\":\"#2a3f5f\"},\"error_y\":{\"color\":\"#2a3f5f\"},\"marker\":{\"line\":{\"color\":\"#E5ECF6\",\"width\":0.5},\"pattern\":{\"fillmode\":\"overlay\",\"size\":10,\"solidity\":0.2}},\"type\":\"bar\"}],\"barpolar\":[{\"marker\":{\"line\":{\"color\":\"#E5ECF6\",\"width\":0.5},\"pattern\":{\"fillmode\":\"overlay\",\"size\":10,\"solidity\":0.2}},\"type\":\"barpolar\"}],\"carpet\":[{\"aaxis\":{\"endlinecolor\":\"#2a3f5f\",\"gridcolor\":\"white\",\"linecolor\":\"white\",\"minorgridcolor\":\"white\",\"startlinecolor\":\"#2a3f5f\"},\"baxis\":{\"endlinecolor\":\"#2a3f5f\",\"gridcolor\":\"white\",\"linecolor\":\"white\",\"minorgridcolor\":\"white\",\"startlinecolor\":\"#2a3f5f\"},\"type\":\"carpet\"}],\"choropleth\":[{\"colorbar\":{\"outlinewidth\":0,\"ticks\":\"\"},\"type\":\"choropleth\"}],\"contour\":[{\"colorbar\":{\"outlinewidth\":0,\"ticks\":\"\"},\"colorscale\":[[0.0,\"#0d0887\"],[0.1111111111111111,\"#46039f\"],[0.2222222222222222,\"#7201a8\"],[0.3333333333333333,\"#9c179e\"],[0.4444444444444444,\"#bd3786\"],[0.5555555555555556,\"#d8576b\"],[0.6666666666666666,\"#ed7953\"],[0.7777777777777778,\"#fb9f3a\"],[0.8888888888888888,\"#fdca26\"],[1.0,\"#f0f921\"]],\"type\":\"contour\"}],\"contourcarpet\":[{\"colorbar\":{\"outlinewidth\":0,\"ticks\":\"\"},\"type\":\"contourcarpet\"}],\"heatmap\":[{\"colorbar\":{\"outlinewidth\":0,\"ticks\":\"\"},\"colorscale\":[[0.0,\"#0d0887\"],[0.1111111111111111,\"#46039f\"],[0.2222222222222222,\"#7201a8\"],[0.3333333333333333,\"#9c179e\"],[0.4444444444444444,\"#bd3786\"],[0.5555555555555556,\"#d8576b\"],[0.6666666666666666,\"#ed7953\"],[0.7777777777777778,\"#fb9f3a\"],[0.8888888888888888,\"#fdca26\"],[1.0,\"#f0f921\"]],\"type\":\"heatmap\"}],\"heatmapgl\":[{\"colorbar\":{\"outlinewidth\":0,\"ticks\":\"\"},\"colorscale\":[[0.0,\"#0d0887\"],[0.1111111111111111,\"#46039f\"],[0.2222222222222222,\"#7201a8\"],[0.3333333333333333,\"#9c179e\"],[0.4444444444444444,\"#bd3786\"],[0.5555555555555556,\"#d8576b\"],[0.6666666666666666,\"#ed7953\"],[0.7777777777777778,\"#fb9f3a\"],[0.8888888888888888,\"#fdca26\"],[1.0,\"#f0f921\"]],\"type\":\"heatmapgl\"}],\"histogram\":[{\"marker\":{\"pattern\":{\"fillmode\":\"overlay\",\"size\":10,\"solidity\":0.2}},\"type\":\"histogram\"}],\"histogram2d\":[{\"colorbar\":{\"outlinewidth\":0,\"ticks\":\"\"},\"colorscale\":[[0.0,\"#0d0887\"],[0.1111111111111111,\"#46039f\"],[0.2222222222222222,\"#7201a8\"],[0.3333333333333333,\"#9c179e\"],[0.4444444444444444,\"#bd3786\"],[0.5555555555555556,\"#d8576b\"],[0.6666666666666666,\"#ed7953\"],[0.7777777777777778,\"#fb9f3a\"],[0.8888888888888888,\"#fdca26\"],[1.0,\"#f0f921\"]],\"type\":\"histogram2d\"}],\"histogram2dcontour\":[{\"colorbar\":{\"outlinewidth\":0,\"ticks\":\"\"},\"colorscale\":[[0.0,\"#0d0887\"],[0.1111111111111111,\"#46039f\"],[0.2222222222222222,\"#7201a8\"],[0.3333333333333333,\"#9c179e\"],[0.4444444444444444,\"#bd3786\"],[0.5555555555555556,\"#d8576b\"],[0.6666666666666666,\"#ed7953\"],[0.7777777777777778,\"#fb9f3a\"],[0.8888888888888888,\"#fdca26\"],[1.0,\"#f0f921\"]],\"type\":\"histogram2dcontour\"}],\"mesh3d\":[{\"colorbar\":{\"outlinewidth\":0,\"ticks\":\"\"},\"type\":\"mesh3d\"}],\"parcoords\":[{\"line\":{\"colorbar\":{\"outlinewidth\":0,\"ticks\":\"\"}},\"type\":\"parcoords\"}],\"pie\":[{\"automargin\":true,\"type\":\"pie\"}],\"scatter\":[{\"marker\":{\"colorbar\":{\"outlinewidth\":0,\"ticks\":\"\"}},\"type\":\"scatter\"}],\"scatter3d\":[{\"line\":{\"colorbar\":{\"outlinewidth\":0,\"ticks\":\"\"}},\"marker\":{\"colorbar\":{\"outlinewidth\":0,\"ticks\":\"\"}},\"type\":\"scatter3d\"}],\"scattercarpet\":[{\"marker\":{\"colorbar\":{\"outlinewidth\":0,\"ticks\":\"\"}},\"type\":\"scattercarpet\"}],\"scattergeo\":[{\"marker\":{\"colorbar\":{\"outlinewidth\":0,\"ticks\":\"\"}},\"type\":\"scattergeo\"}],\"scattergl\":[{\"marker\":{\"colorbar\":{\"outlinewidth\":0,\"ticks\":\"\"}},\"type\":\"scattergl\"}],\"scattermapbox\":[{\"marker\":{\"colorbar\":{\"outlinewidth\":0,\"ticks\":\"\"}},\"type\":\"scattermapbox\"}],\"scatterpolar\":[{\"marker\":{\"colorbar\":{\"outlinewidth\":0,\"ticks\":\"\"}},\"type\":\"scatterpolar\"}],\"scatterpolargl\":[{\"marker\":{\"colorbar\":{\"outlinewidth\":0,\"ticks\":\"\"}},\"type\":\"scatterpolargl\"}],\"scatterternary\":[{\"marker\":{\"colorbar\":{\"outlinewidth\":0,\"ticks\":\"\"}},\"type\":\"scatterternary\"}],\"surface\":[{\"colorbar\":{\"outlinewidth\":0,\"ticks\":\"\"},\"colorscale\":[[0.0,\"#0d0887\"],[0.1111111111111111,\"#46039f\"],[0.2222222222222222,\"#7201a8\"],[0.3333333333333333,\"#9c179e\"],[0.4444444444444444,\"#bd3786\"],[0.5555555555555556,\"#d8576b\"],[0.6666666666666666,\"#ed7953\"],[0.7777777777777778,\"#fb9f3a\"],[0.8888888888888888,\"#fdca26\"],[1.0,\"#f0f921\"]],\"type\":\"surface\"}],\"table\":[{\"cells\":{\"fill\":{\"color\":\"#EBF0F8\"},\"line\":{\"color\":\"white\"}},\"header\":{\"fill\":{\"color\":\"#C8D4E3\"},\"line\":{\"color\":\"white\"}},\"type\":\"table\"}]},\"layout\":{\"annotationdefaults\":{\"arrowcolor\":\"#2a3f5f\",\"arrowhead\":0,\"arrowwidth\":1},\"autotypenumbers\":\"strict\",\"coloraxis\":{\"colorbar\":{\"outlinewidth\":0,\"ticks\":\"\"}},\"colorscale\":{\"diverging\":[[0,\"#8e0152\"],[0.1,\"#c51b7d\"],[0.2,\"#de77ae\"],[0.3,\"#f1b6da\"],[0.4,\"#fde0ef\"],[0.5,\"#f7f7f7\"],[0.6,\"#e6f5d0\"],[0.7,\"#b8e186\"],[0.8,\"#7fbc41\"],[0.9,\"#4d9221\"],[1,\"#276419\"]],\"sequential\":[[0.0,\"#0d0887\"],[0.1111111111111111,\"#46039f\"],[0.2222222222222222,\"#7201a8\"],[0.3333333333333333,\"#9c179e\"],[0.4444444444444444,\"#bd3786\"],[0.5555555555555556,\"#d8576b\"],[0.6666666666666666,\"#ed7953\"],[0.7777777777777778,\"#fb9f3a\"],[0.8888888888888888,\"#fdca26\"],[1.0,\"#f0f921\"]],\"sequentialminus\":[[0.0,\"#0d0887\"],[0.1111111111111111,\"#46039f\"],[0.2222222222222222,\"#7201a8\"],[0.3333333333333333,\"#9c179e\"],[0.4444444444444444,\"#bd3786\"],[0.5555555555555556,\"#d8576b\"],[0.6666666666666666,\"#ed7953\"],[0.7777777777777778,\"#fb9f3a\"],[0.8888888888888888,\"#fdca26\"],[1.0,\"#f0f921\"]]},\"colorway\":[\"#636efa\",\"#EF553B\",\"#00cc96\",\"#ab63fa\",\"#FFA15A\",\"#19d3f3\",\"#FF6692\",\"#B6E880\",\"#FF97FF\",\"#FECB52\"],\"font\":{\"color\":\"#2a3f5f\"},\"geo\":{\"bgcolor\":\"white\",\"lakecolor\":\"white\",\"landcolor\":\"#E5ECF6\",\"showlakes\":true,\"showland\":true,\"subunitcolor\":\"white\"},\"hoverlabel\":{\"align\":\"left\"},\"hovermode\":\"closest\",\"mapbox\":{\"style\":\"light\"},\"paper_bgcolor\":\"white\",\"plot_bgcolor\":\"#E5ECF6\",\"polar\":{\"angularaxis\":{\"gridcolor\":\"white\",\"linecolor\":\"white\",\"ticks\":\"\"},\"bgcolor\":\"#E5ECF6\",\"radialaxis\":{\"gridcolor\":\"white\",\"linecolor\":\"white\",\"ticks\":\"\"}},\"scene\":{\"xaxis\":{\"backgroundcolor\":\"#E5ECF6\",\"gridcolor\":\"white\",\"gridwidth\":2,\"linecolor\":\"white\",\"showbackground\":true,\"ticks\":\"\",\"zerolinecolor\":\"white\"},\"yaxis\":{\"backgroundcolor\":\"#E5ECF6\",\"gridcolor\":\"white\",\"gridwidth\":2,\"linecolor\":\"white\",\"showbackground\":true,\"ticks\":\"\",\"zerolinecolor\":\"white\"},\"zaxis\":{\"backgroundcolor\":\"#E5ECF6\",\"gridcolor\":\"white\",\"gridwidth\":2,\"linecolor\":\"white\",\"showbackground\":true,\"ticks\":\"\",\"zerolinecolor\":\"white\"}},\"shapedefaults\":{\"line\":{\"color\":\"#2a3f5f\"}},\"ternary\":{\"aaxis\":{\"gridcolor\":\"white\",\"linecolor\":\"white\",\"ticks\":\"\"},\"baxis\":{\"gridcolor\":\"white\",\"linecolor\":\"white\",\"ticks\":\"\"},\"bgcolor\":\"#E5ECF6\",\"caxis\":{\"gridcolor\":\"white\",\"linecolor\":\"white\",\"ticks\":\"\"}},\"title\":{\"x\":0.05},\"xaxis\":{\"automargin\":true,\"gridcolor\":\"white\",\"linecolor\":\"white\",\"ticks\":\"\",\"title\":{\"standoff\":15},\"zerolinecolor\":\"white\",\"zerolinewidth\":2},\"yaxis\":{\"automargin\":true,\"gridcolor\":\"white\",\"linecolor\":\"white\",\"ticks\":\"\",\"title\":{\"standoff\":15},\"zerolinecolor\":\"white\",\"zerolinewidth\":2}}},\"legend\":{\"tracegroupgap\":0},\"title\":{\"text\":\"Trait Categories Distribution\"}},                        {\"responsive\": true}                    ).then(function(){\n",
       "                            \n",
       "var gd = document.getElementById('59ef3a46-bdcd-43c3-9d51-121865b88151');\n",
       "var x = new MutationObserver(function (mutations, observer) {{\n",
       "        var display = window.getComputedStyle(gd).display;\n",
       "        if (!display || display === 'none') {{\n",
       "            console.log([gd, 'removed!']);\n",
       "            Plotly.purge(gd);\n",
       "            observer.disconnect();\n",
       "        }}\n",
       "}});\n",
       "\n",
       "// Listen for the removal of the full notebook cells\n",
       "var notebookContainer = gd.closest('#notebook-container');\n",
       "if (notebookContainer) {{\n",
       "    x.observe(notebookContainer, {childList: true});\n",
       "}}\n",
       "\n",
       "// Listen for the clearing of the current output cell\n",
       "var outputEl = gd.closest('.output');\n",
       "if (outputEl) {{\n",
       "    x.observe(outputEl, {childList: true});\n",
       "}}\n",
       "\n",
       "                        })                };                });            </script>        </div>"
      ]
     },
     "metadata": {},
     "output_type": "display_data"
    }
   ],
   "source": [
    "# Visualize the trait categories using a pie chart\n",
    "fig = px.pie(names = data.keys(), values = data.values(), title='Trait Categories Distribution')\n",
    "fig.show()"
   ]
  },
  {
   "cell_type": "markdown",
   "id": "3585ff04",
   "metadata": {},
   "source": [
    "<h2>Conclusion</h2>\n",
    "\n",
    "Let's write a loop that outputs the traits of successful instructors, from most frequent to least frequent."
   ]
  },
  {
   "cell_type": "code",
   "execution_count": 350,
   "id": "1afce1fd",
   "metadata": {},
   "outputs": [
    {
     "name": "stdout",
     "output_type": "stream",
     "text": [
      "Motivation\n",
      "Communication\n",
      "Professionalism\n",
      "Knowledge\n"
     ]
    }
   ],
   "source": [
    "data = dict(sorted(data.items(), key=lambda item: item[1], reverse = True))\n",
    "\n",
    "for i, j in data.items():\n",
    "    print(f\"{i}\")"
   ]
  }
 ],
 "metadata": {
  "kernelspec": {
   "display_name": "Python 3 (ipykernel)",
   "language": "python",
   "name": "python3"
  },
  "language_info": {
   "codemirror_mode": {
    "name": "ipython",
    "version": 3
   },
   "file_extension": ".py",
   "mimetype": "text/x-python",
   "name": "python",
   "nbconvert_exporter": "python",
   "pygments_lexer": "ipython3",
   "version": "3.9.12"
  }
 },
 "nbformat": 4,
 "nbformat_minor": 5
}
